{
 "cells": [
  {
   "cell_type": "code",
   "execution_count": 9,
   "metadata": {},
   "outputs": [],
   "source": [
    "import numpy as np\n",
    "import matplotlib.pyplot as plt"
   ]
  },
  {
   "cell_type": "code",
   "execution_count": 35,
   "metadata": {},
   "outputs": [
    {
     "name": "stdout",
     "output_type": "stream",
     "text": [
      "[-26.87978176  11.66454131   9.73616318   6.82875796 -11.82613555\n",
      "  18.46845291  30.63104893  13.44985546   6.9157679   35.03868103\n",
      "  24.32316808  38.99066671  31.42953428  32.29641335  52.65867425\n",
      "  42.85357459  45.68285138  43.86743198  69.73439668  76.13299911\n",
      "  42.00267917  60.93737701  84.74158905  88.18633743  66.26318409\n",
      "  73.92189593  66.11391575  61.36039884  92.35194499  71.75480249\n",
      "  93.12629267  79.57097884  97.96908909  88.25552552  94.03808204\n",
      " 116.42085581 126.76713518 105.75450253 105.35735094 117.56589394\n",
      " 126.95271442 134.31812884 122.8078515  105.3330571  133.53705394\n",
      " 160.78406186 162.63905304 139.64270862 156.84501123 170.68207769\n",
      " 163.86606383 152.18962426 156.30396251 161.27064263 157.42225672\n",
      " 152.81990223 191.82830489 182.61724769 165.7658855  178.46794801\n",
      " 178.70965021 170.69301557 189.58735239 190.52009517 186.3696409\n",
      " 199.16931748 192.42291745 191.2565045  231.73245296 213.08232192\n",
      " 215.59041896 205.09713773 256.81173232 220.3279057  216.27469211\n",
      " 227.91650312 217.05766624 235.53519953 216.71010591 240.46770402\n",
      " 251.35000347 259.95268107 245.77841023 262.47632558 248.29470086\n",
      " 275.16059982 267.1618633  280.40841063 274.5832394  262.33431303\n",
      " 299.80759135 256.07392241 290.42253128 292.70071456 255.36399937\n",
      " 268.34895924 303.70684682 292.70153371 295.61010877 293.42756021\n",
      " 267.26151624]\n",
      "[  0.5   3.5   6.5   9.5  12.5  15.5  18.5  21.5  24.5  27.5  30.5  33.5\n",
      "  36.5  39.5  42.5  45.5  48.5  51.5  54.5  57.5  60.5  63.5  66.5  69.5\n",
      "  72.5  75.5  78.5  81.5  84.5  87.5  90.5  93.5  96.5  99.5 102.5 105.5\n",
      " 108.5 111.5 114.5 117.5 120.5 123.5 126.5 129.5 132.5 135.5 138.5 141.5\n",
      " 144.5 147.5 150.5 153.5 156.5 159.5 162.5 165.5 168.5 171.5 174.5 177.5\n",
      " 180.5 183.5 186.5 189.5 192.5 195.5 198.5 201.5 204.5 207.5 210.5 213.5\n",
      " 216.5 219.5 222.5 225.5 228.5 231.5 234.5 237.5 240.5 243.5 246.5 249.5\n",
      " 252.5 255.5 258.5 261.5 264.5 267.5 270.5 273.5 276.5 279.5 282.5 285.5\n",
      " 288.5 291.5 294.5 297.5 300.5]\n"
     ]
    },
    {
     "data": {
      "image/png": "[encoded data removed]",
      "text/plain": [
       "<Figure size 432x288 with 1 Axes>"
      ]
     },
     "metadata": {
      "needs_background": "light"
     },
     "output_type": "display_data"
    },
    {
     "name": "stdout",
     "output_type": "stream",
     "text": [
      "The Mean absolute error is 10.577\n"
     ]
    }
   ],
   "source": [
    "w = 3\n",
    "b= 0.5\n",
    "\n",
    "x_lin = np.linspace(0,100,101)\n",
    "y = (x_lin + np.random.randn(101) * 5) * w + b\n",
    "y_hat = x_lin * w + b\n",
    "\n",
    "print(y)\n",
    "print(y_hat)\n",
    "\n",
    "plt.plot(x_lin, y, 'b.', label = 'data')\n",
    "plt.plot(x_lin, y_hat, 'r-', label = 'prediction')\n",
    "\n",
    "plt.title(\"Assume we have data points (And the prediction)\")\n",
    "plt.legend(loc = 2)\n",
    "plt.show()\n",
    "\n",
    "\n",
    "def mean_absolute_error(y, yp):\n",
    "    \"\"\"\n",
    "    計算 MAE\n",
    "    Args:\n",
    "        - y: 實際值\n",
    "        - yp: 預測值\n",
    "    Return:\n",
    "        - mae: MAE\n",
    "    \"\"\"\n",
    "    mae = sum(abs(y-yp)) / len(y)\n",
    "    return mae\n",
    "\n",
    "MAE = mean_absolute_error(y, y_hat)\n",
    "print(\"The Mean absolute error is %.3f\" % (MAE))\n"
   ]
  },
  {
   "cell_type": "code",
   "execution_count": 34,
   "metadata": {},
   "outputs": [
    {
     "name": "stdout",
     "output_type": "stream",
     "text": [
      "The Mean squared error is 238.336\n"
     ]
    }
   ],
   "source": [
    "# 作業一\n",
    "\n",
    "def mean_squared_error(y,yp):\n",
    "    mse = sum(np.square(y-yp)) / len(y)\n",
    "    return mse\n",
    "MSE = mean_squared_error(y, y_hat)\n",
    "print(\"The Mean squared error is %.3f\" % (MSE))"
   ]
  },
  {
   "cell_type": "markdown",
   "metadata": {},
   "source": [
    "## [作業2]\n",
    "#### 1. 你選的這組資料為何重要？\n",
    "https://www.kaggle.com/c/titanic/overview\n",
    "I can use machine learning to create a model and be my first AI practice \n",
    "\n",
    "### 2. 資料從何而來 (tips: 譬如提供者是誰、以什麼方式蒐集)\n",
    "Kaggle\n",
    "\n",
    "### 3. 蒐集而來的資料型態為何\n",
    "passenger information like name, age, gender, socio-economic class, etc, \n",
    "\n",
    "### 4. 這組資料想解決的問題如何評估\n",
    "what sorts of people were more likely to survive"
   ]
  },
  {
   "cell_type": "markdown",
   "metadata": {},
   "source": [
    "## [作業3]\n",
    "### 1. 核心問題為何 (tips：如何定義 「提升業績 & 你的假設」)\n",
    "平均月載客量提升，年載客量or使用次數增加。\n",
    "\n",
    "### 2. 資料從何而來 (tips：哪些資料可能會對你想問的問題產生影響 & 資料如何蒐集)\n",
    "追蹤每位司機載客量和評價。=>每趟服務後讓使用者填寫評價。\n",
    "利用 app or 司機管理系統追蹤。\n",
    "\n",
    "### 3. 蒐集而來的資料型態為何\n",
    "每位司機載客數量 or 司機顧客評價\n",
    "\n",
    "### 4. 你要回答的問題，其如何評估 (tips：你的假設如何驗證)\n",
    "哪種司機平均載客量最高\n"
   ]
  },
  {
   "cell_type": "code",
   "execution_count": null,
   "metadata": {},
   "outputs": [],
   "source": []
  }
 ],
 "metadata": {
  "kernelspec": {
   "display_name": "Python 3",
   "language": "python",
   "name": "python3"
  },
  "language_info": {
   "codemirror_mode": {
    "name": "ipython",
    "version": 3
   },
   "file_extension": ".py",
   "mimetype": "text/x-python",
   "name": "python",
   "nbconvert_exporter": "python",
   "pygments_lexer": "ipython3",
   "version": "3.7.4"
  }
 },
 "nbformat": 4,
 "nbformat_minor": 2
}
