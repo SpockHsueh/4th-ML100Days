{
 "cells": [
  {
   "cell_type": "markdown",
   "metadata": {},
   "source": [
    "運輸業，除了自動駕駛外，無論是火車、飛機還是汽車，都會產生大量的數據。利用機器學習，可以提高整個運輸系統的安全和效率。像是解決塞車問題，最佳化或更安全的飛行路線等等，都可以在發生前，大幅提高識別機率。"
   ]
  }
 ],
 "metadata": {
  "kernelspec": {
   "display_name": "Python 3",
   "language": "python",
   "name": "python3"
  },
  "language_info": {
   "codemirror_mode": {
    "name": "ipython",
    "version": 3
   },
   "file_extension": ".py",
   "mimetype": "text/x-python",
   "name": "python",
   "nbconvert_exporter": "python",
   "pygments_lexer": "ipython3",
   "version": "3.7.4"
  }
 },
 "nbformat": 4,
 "nbformat_minor": 2
}
