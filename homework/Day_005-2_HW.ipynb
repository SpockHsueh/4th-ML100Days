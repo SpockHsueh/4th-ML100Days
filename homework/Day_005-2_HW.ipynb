{
 "cells": [
  {
   "cell_type": "code",
   "execution_count": 27,
   "metadata": {},
   "outputs": [],
   "source": [
    "import os\n",
    "import numpy as np\n",
    "import pandas as pd\n",
    "import requests\n",
    "from PIL import Image\n",
    "from io import BytesIO\n",
    "import matplotlib.pyplot as plt\n"
   ]
  },
  {
   "cell_type": "code",
   "execution_count": 28,
   "metadata": {},
   "outputs": [],
   "source": [
    "def dataFrameFromText():\n",
    "    dir_data = './Downloads/Kingsman/AI100/'\n",
    "    f_app = os.path.join(dir_data, 'Day5.txt')\n",
    "    return pd.read_csv(f_app, sep=\"\\t\", names=[\"id\", 'url'], header=0)\n",
    "\n",
    "def imageFrameFromData(data, n):\n",
    "    for i in range(0, n):\n",
    "        url = data.iloc[i, 1]\n",
    "        res = requests.get(str(url), stream=True)\n",
    "        res.raise_for_status()\n",
    "        image = Image.open(BytesIO(res.content))\n",
    "        data[i, 1] = image;\n",
    "        image.show()\n"
   ]
  },
  {
   "cell_type": "code",
   "execution_count": 29,
   "metadata": {},
   "outputs": [],
   "source": [
    "dataFrameFromText()\n",
    "\n",
    "imageData = dataFrameFromText()        \n",
    "imageFrameFromData(imageData, 3)"
   ]
  },
  {
   "cell_type": "code",
   "execution_count": null,
   "metadata": {},
   "outputs": [],
   "source": []
  }
 ],
 "metadata": {
  "kernelspec": {
   "display_name": "Python 3",
   "language": "python",
   "name": "python3"
  },
  "language_info": {
   "codemirror_mode": {
    "name": "ipython",
    "version": 3
   },
   "file_extension": ".py",
   "mimetype": "text/x-python",
   "name": "python",
   "nbconvert_exporter": "python",
   "pygments_lexer": "ipython3",
   "version": "3.7.4"
  }
 },
 "nbformat": 4,
 "nbformat_minor": 2
}
